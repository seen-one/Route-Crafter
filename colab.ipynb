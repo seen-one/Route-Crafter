{
  "nbformat": 4,
  "nbformat_minor": 0,
  "metadata": {
    "colab": {
      "provenance": [],
      "toc_visible": true
    },
    "kernelspec": {
      "name": "python3",
      "display_name": "Python 3"
    },
    "language_info": {
      "name": "python"
    }
  },
  "cells": [
    {
      "cell_type": "markdown",
      "source": [
        "1. Click on Run all\n",
        "2. If asked to Restart session, click Cancel\n",
        "3. Scroll down and click on the URL generated below"
      ],
      "metadata": {
        "id": "afCvIFmW7OE1"
      }
    },
    {
      "cell_type": "code",
      "metadata": {
        "id": "a819b5fe"
      },
      "source": [
        "!git clone --recursive --single-branch --branch everystreet https://github.com/seen-one/Route-Crafter.git"
      ],
      "execution_count": null,
      "outputs": []
    },
    {
      "cell_type": "code",
      "metadata": {
        "id": "7039e229"
      },
      "source": [
        "%cd Route-Crafter\n",
        "!pip install -r requirements.txt\n",
        "%cd .."
      ],
      "execution_count": null,
      "outputs": []
    },
    {
      "cell_type": "code",
      "metadata": {
        "id": "55cd49fa"
      },
      "source": [
        "from google.colab.output import eval_js\n",
        "print(\"Click on the URL! -> \", eval_js(\"google.colab.kernel.proxyPort(5000)\"))\n",
        "\n",
        "%cd Route-Crafter\n",
        "!python app.py\n",
        "%cd .."
      ],
      "execution_count": null,
      "outputs": []
    }
  ]
}
